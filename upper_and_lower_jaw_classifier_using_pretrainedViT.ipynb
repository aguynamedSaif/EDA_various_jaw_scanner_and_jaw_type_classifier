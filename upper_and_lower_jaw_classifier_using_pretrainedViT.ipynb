{
  "nbformat": 4,
  "nbformat_minor": 0,
  "metadata": {
    "colab": {
      "provenance": [],
      "gpuType": "T4"
    },
    "kernelspec": {
      "name": "python3",
      "display_name": "Python 3"
    },
    "language_info": {
      "name": "python"
    },
    "accelerator": "GPU"
  },
  "cells": [
    {
      "cell_type": "markdown",
      "source": [
        "lets load the model for the pretrained vit based on the following [paper](https://arxiv.org/abs/2010.11929)"
      ],
      "metadata": {
        "id": "4QyDa-2lC-hl"
      }
    },
    {
      "cell_type": "code",
      "source": [
        "!pip install pytorch_pretrained_vit\n",
        "from pytorch_pretrained_vit import ViT"
      ],
      "metadata": {
        "colab": {
          "base_uri": "https://localhost:8080/"
        },
        "id": "cXCINVeVBlve",
        "outputId": "8aeaa54c-3b8d-4fe7-a4ef-06d7327186ea"
      },
      "execution_count": null,
      "outputs": [
        {
          "output_type": "stream",
          "name": "stdout",
          "text": [
            "Looking in indexes: https://pypi.org/simple, https://us-python.pkg.dev/colab-wheels/public/simple/\n",
            "Collecting pytorch_pretrained_vit\n",
            "  Downloading pytorch-pretrained-vit-0.0.7.tar.gz (13 kB)\n",
            "  Preparing metadata (setup.py) ... \u001b[?25l\u001b[?25hdone\n",
            "Requirement already satisfied: torch in /usr/local/lib/python3.10/dist-packages (from pytorch_pretrained_vit) (2.0.1+cu118)\n",
            "Requirement already satisfied: filelock in /usr/local/lib/python3.10/dist-packages (from torch->pytorch_pretrained_vit) (3.12.0)\n",
            "Requirement already satisfied: typing-extensions in /usr/local/lib/python3.10/dist-packages (from torch->pytorch_pretrained_vit) (4.5.0)\n",
            "Requirement already satisfied: sympy in /usr/local/lib/python3.10/dist-packages (from torch->pytorch_pretrained_vit) (1.11.1)\n",
            "Requirement already satisfied: networkx in /usr/local/lib/python3.10/dist-packages (from torch->pytorch_pretrained_vit) (3.1)\n",
            "Requirement already satisfied: jinja2 in /usr/local/lib/python3.10/dist-packages (from torch->pytorch_pretrained_vit) (3.1.2)\n",
            "Requirement already satisfied: triton==2.0.0 in /usr/local/lib/python3.10/dist-packages (from torch->pytorch_pretrained_vit) (2.0.0)\n",
            "Requirement already satisfied: cmake in /usr/local/lib/python3.10/dist-packages (from triton==2.0.0->torch->pytorch_pretrained_vit) (3.25.2)\n",
            "Requirement already satisfied: lit in /usr/local/lib/python3.10/dist-packages (from triton==2.0.0->torch->pytorch_pretrained_vit) (16.0.5)\n",
            "Requirement already satisfied: MarkupSafe>=2.0 in /usr/local/lib/python3.10/dist-packages (from jinja2->torch->pytorch_pretrained_vit) (2.1.2)\n",
            "Requirement already satisfied: mpmath>=0.19 in /usr/local/lib/python3.10/dist-packages (from sympy->torch->pytorch_pretrained_vit) (1.3.0)\n",
            "Building wheels for collected packages: pytorch_pretrained_vit\n",
            "  Building wheel for pytorch_pretrained_vit (setup.py) ... \u001b[?25l\u001b[?25hdone\n",
            "  Created wheel for pytorch_pretrained_vit: filename=pytorch_pretrained_vit-0.0.7-py3-none-any.whl size=11116 sha256=491b4ed0d965ff2e0217581630cfd38c03fe29b4e1bb3ebd3e78433cd51b8a1e\n",
            "  Stored in directory: /root/.cache/pip/wheels/2d/46/ad/12007be9d377d0fbf27ef75b6e47ed92832ab6b70dbf004b6f\n",
            "Successfully built pytorch_pretrained_vit\n",
            "Installing collected packages: pytorch_pretrained_vit\n",
            "Successfully installed pytorch_pretrained_vit-0.0.7\n"
          ]
        }
      ]
    },
    {
      "cell_type": "markdown",
      "source": [
        "load all the packages required for the study"
      ],
      "metadata": {
        "id": "6Rv--A5nDK65"
      }
    },
    {
      "cell_type": "code",
      "execution_count": null,
      "metadata": {
        "id": "PhOCM6BvBRoI"
      },
      "outputs": [],
      "source": [
        "import os\n",
        "import math\n",
        "import numpy\n",
        "import numpy as np\n",
        "from PIL import Image\n",
        "import torch\n",
        "import torch.nn as nn\n",
        "from torch.utils.data import Dataset, DataLoader\n",
        "import matplotlib.pyplot as plt\n",
        "#%matplotlib inline\n",
        "\n",
        "import gc\n",
        "\n",
        "from torch.optim.lr_scheduler import StepLR\n",
        "\n",
        "import torchvision.transforms as T\n",
        "import torchvision.transforms.functional as TF\n",
        "\n",
        "from torchvision.models.vision_transformer import VisionTransformer\n",
        "\n",
        "from pytorch_pretrained_vit import ViT"
      ]
    },
    {
      "cell_type": "markdown",
      "source": [
        "mount the drive "
      ],
      "metadata": {
        "id": "T52KgZ9JDOzb"
      }
    },
    {
      "cell_type": "code",
      "source": [
        "from google.colab import drive\n",
        "drive.mount('/content/drive')"
      ],
      "metadata": {
        "colab": {
          "base_uri": "https://localhost:8080/"
        },
        "id": "vhiYHmOoBebP",
        "outputId": "c9898b92-3020-4c18-dea1-959b26637297"
      },
      "execution_count": null,
      "outputs": [
        {
          "output_type": "stream",
          "name": "stdout",
          "text": [
            "Mounted at /content/drive\n"
          ]
        }
      ]
    },
    {
      "cell_type": "markdown",
      "source": [
        "The line of code `torch.manual_seed(20)` sets the random seed for the torch module to ensure reproducibility."
      ],
      "metadata": {
        "id": "H9SIirQFDrh_"
      }
    },
    {
      "cell_type": "code",
      "source": [
        "torch.manual_seed(20)"
      ],
      "metadata": {
        "colab": {
          "base_uri": "https://localhost:8080/"
        },
        "id": "843M9mP-BseV",
        "outputId": "beaf2265-7a12-403b-f0ad-28ab56e9f54b"
      },
      "execution_count": null,
      "outputs": [
        {
          "output_type": "execute_result",
          "data": {
            "text/plain": [
              "<torch._C.Generator at 0x7efc28375cb0>"
            ]
          },
          "metadata": {},
          "execution_count": 4
        }
      ]
    },
    {
      "cell_type": "markdown",
      "source": [
        "check gpu availability"
      ],
      "metadata": {
        "id": "igSlTz81EJ4F"
      }
    },
    {
      "cell_type": "code",
      "source": [
        "device = \"cuda\" if torch.cuda.is_available() else \"cpu\"\n",
        "print(f\"Using {device} device\")"
      ],
      "metadata": {
        "colab": {
          "base_uri": "https://localhost:8080/"
        },
        "id": "S86sjRnMByUO",
        "outputId": "65b69899-ad32-4cd1-bfff-59a813172788"
      },
      "execution_count": null,
      "outputs": [
        {
          "output_type": "stream",
          "name": "stdout",
          "text": [
            "Using cuda device\n"
          ]
        }
      ]
    },
    {
      "cell_type": "markdown",
      "source": [
        "set the training and testing directory"
      ],
      "metadata": {
        "id": "IYV2CwSOEMxR"
      }
    },
    {
      "cell_type": "code",
      "source": [
        "# Directory Names\n",
        "dir_training = '/content/drive/MyDrive/EDA_jaw_scanner/training'\n",
        "dir_testing = '/content/drive/MyDrive/EDA_jaw_scanner/testing'"
      ],
      "metadata": {
        "id": "LdKTFeiUB18d"
      },
      "execution_count": null,
      "outputs": []
    },
    {
      "cell_type": "markdown",
      "source": [
        "The code defines a custom dataset class called `jawdataset` for loading and processing data. It takes a directory path `img_dir` and an optional data transformation function `transform`. The `__len__` method returns the total number of data files in the directory. The `__getitem__` method retrieves a data sample at a specific index `idx`. It loads a numpy array from the corresponding file, removes some elements, reshapes it, and converts it to a PyTorch tensor. It also determines the label based on the file name and returns the tensor data and label as a tuple. Optional data transformations can be applied."
      ],
      "metadata": {
        "id": "thlATUvtEbSJ"
      }
    },
    {
      "cell_type": "code",
      "source": [
        "class jawdataset(Dataset):\n",
        "    def __init__(self, img_dir, transform=None):\n",
        "        self.dataset_path = img_dir\n",
        "        self.transform = transform\n",
        "\n",
        "    def __len__(self):\n",
        "        return len(os.listdir(self.dataset_path))\n",
        "\n",
        "    def __getitem__(self, idx):\n",
        "        if idx >= len(os.listdir(self.dataset_path)):\n",
        "            print(\"No datafile/image at index: \" + str(idx))\n",
        "            return None\n",
        "        \n",
        "        npy_filename = os.listdir(self.dataset_path)[idx]\n",
        "        label = int('lower jaw' not in npy_filename)\n",
        "        \n",
        "        numpy_arr = numpy.load(os.path.join(self.dataset_path, npy_filename))\n",
        "        for i in range(numpy_arr.shape[0] - 70):\n",
        "            numpy_arr = numpy.delete(numpy_arr, [0], axis=0)\n",
        "        numpy_arr = numpy_arr.reshape(1, 70, 70, 70)\n",
        "        tensor_arr = torch.from_numpy(numpy_arr).to(torch.float32)\n",
        "\n",
        "        del numpy_arr\n",
        "        gc.collect()\n",
        "\n",
        "        if self.transform:\n",
        "            tensor_arr = self.transform(tensor_arr)\n",
        "\n",
        "        return tensor_arr.to(torch.float32), torch.LongTensor([label])\n",
        "\n"
      ],
      "metadata": {
        "id": "r308tLMSCCto"
      },
      "execution_count": null,
      "outputs": []
    },
    {
      "cell_type": "markdown",
      "source": [
        "check the labels of the data"
      ],
      "metadata": {
        "id": "jAGTPGveEjWP"
      }
    },
    {
      "cell_type": "code",
      "source": [
        "dataset = jawdataset(dir_training)  # Replace `img_dir` with the actual directory path\n",
        "\n",
        "# Iterate over the dataset and print the labels\n",
        "for i in range(len(dataset)):\n",
        "    data, label = dataset[i]\n",
        "    if label.item() == 0:\n",
        "        print(f\"Sample {i}: lower jaw\")\n",
        "    elif label.item() == 1:\n",
        "        print(f\"Sample {i}: upper jaw\")\n",
        "    else:\n",
        "        print(f\"Sample {i}: Unknown label\")\n"
      ],
      "metadata": {
        "colab": {
          "base_uri": "https://localhost:8080/"
        },
        "id": "cI5FMOrEhVmJ",
        "outputId": "d3c3d133-e8d2-49f0-9934-7b51d9b9a8af"
      },
      "execution_count": null,
      "outputs": [
        {
          "output_type": "stream",
          "name": "stdout",
          "text": [
            "Sample 0: upper jaw\n",
            "Sample 1: upper jaw\n",
            "Sample 2: upper jaw\n",
            "Sample 3: upper jaw\n",
            "Sample 4: upper jaw\n",
            "Sample 5: upper jaw\n",
            "Sample 6: upper jaw\n",
            "Sample 7: upper jaw\n",
            "Sample 8: upper jaw\n",
            "Sample 9: upper jaw\n",
            "Sample 10: upper jaw\n",
            "Sample 11: upper jaw\n",
            "Sample 12: upper jaw\n",
            "Sample 13: upper jaw\n",
            "Sample 14: upper jaw\n",
            "Sample 15: upper jaw\n",
            "Sample 16: upper jaw\n",
            "Sample 17: upper jaw\n",
            "Sample 18: upper jaw\n",
            "Sample 19: upper jaw\n",
            "Sample 20: upper jaw\n",
            "Sample 21: upper jaw\n",
            "Sample 22: upper jaw\n",
            "Sample 23: upper jaw\n",
            "Sample 24: upper jaw\n",
            "Sample 25: upper jaw\n",
            "Sample 26: upper jaw\n",
            "Sample 27: lower jaw\n",
            "Sample 28: lower jaw\n",
            "Sample 29: lower jaw\n",
            "Sample 30: lower jaw\n",
            "Sample 31: lower jaw\n",
            "Sample 32: lower jaw\n",
            "Sample 33: lower jaw\n",
            "Sample 34: lower jaw\n",
            "Sample 35: lower jaw\n",
            "Sample 36: lower jaw\n",
            "Sample 37: lower jaw\n",
            "Sample 38: lower jaw\n",
            "Sample 39: lower jaw\n",
            "Sample 40: lower jaw\n",
            "Sample 41: lower jaw\n",
            "Sample 42: lower jaw\n",
            "Sample 43: lower jaw\n",
            "Sample 44: lower jaw\n",
            "Sample 45: lower jaw\n",
            "Sample 46: lower jaw\n",
            "Sample 47: lower jaw\n",
            "Sample 48: lower jaw\n",
            "Sample 49: lower jaw\n",
            "Sample 50: lower jaw\n",
            "Sample 51: lower jaw\n",
            "Sample 52: lower jaw\n",
            "Sample 53: lower jaw\n",
            "Sample 54: lower jaw\n",
            "Sample 55: lower jaw\n",
            "Sample 56: lower jaw\n",
            "Sample 57: lower jaw\n",
            "Sample 58: lower jaw\n",
            "Sample 59: lower jaw\n",
            "Sample 60: lower jaw\n",
            "Sample 61: lower jaw\n",
            "Sample 62: lower jaw\n",
            "Sample 63: lower jaw\n",
            "Sample 64: lower jaw\n",
            "Sample 65: lower jaw\n",
            "Sample 66: lower jaw\n",
            "Sample 67: lower jaw\n",
            "Sample 68: lower jaw\n",
            "Sample 69: lower jaw\n",
            "Sample 70: lower jaw\n",
            "Sample 71: lower jaw\n",
            "Sample 72: lower jaw\n",
            "Sample 73: lower jaw\n",
            "Sample 74: lower jaw\n",
            "Sample 75: lower jaw\n",
            "Sample 76: lower jaw\n",
            "Sample 77: lower jaw\n",
            "Sample 78: upper jaw\n",
            "Sample 79: upper jaw\n",
            "Sample 80: upper jaw\n",
            "Sample 81: upper jaw\n",
            "Sample 82: upper jaw\n",
            "Sample 83: upper jaw\n",
            "Sample 84: upper jaw\n",
            "Sample 85: upper jaw\n",
            "Sample 86: upper jaw\n",
            "Sample 87: upper jaw\n",
            "Sample 88: upper jaw\n",
            "Sample 89: upper jaw\n",
            "Sample 90: upper jaw\n",
            "Sample 91: upper jaw\n",
            "Sample 92: upper jaw\n",
            "Sample 93: upper jaw\n",
            "Sample 94: upper jaw\n",
            "Sample 95: upper jaw\n",
            "Sample 96: upper jaw\n",
            "Sample 97: upper jaw\n",
            "Sample 98: upper jaw\n",
            "Sample 99: upper jaw\n",
            "Sample 100: upper jaw\n",
            "Sample 101: upper jaw\n"
          ]
        }
      ]
    },
    {
      "cell_type": "markdown",
      "source": [
        "augmentation"
      ],
      "metadata": {
        "id": "roTQaJaiE-LO"
      }
    },
    {
      "cell_type": "code",
      "source": [
        "data_augmentation_transformations = T.Compose([ # Geometric Transformation\n",
        "    # T.RandomAffine(degrees=(-90, 90), scale=(0.7,1), translate=(0, 0.2)), \n",
        "    T.RandomHorizontalFlip(), # Reflect\n",
        "    T.RandomChoice([\n",
        "      T.RandomAffine(degrees=0), # No Transformation\n",
        "      T.Compose([T.RandomErasing(p=1, scale=(0.0008, 0.0008), ratio=(1,1))]*200), # Occlusion\n",
        "    ]),\n",
        "])  "
      ],
      "metadata": {
        "id": "QDOS4JoMCQuF"
      },
      "execution_count": null,
      "outputs": []
    },
    {
      "cell_type": "markdown",
      "source": [
        "loaded the training and validation data"
      ],
      "metadata": {
        "id": "yWAtteSxE_zw"
      }
    },
    {
      "cell_type": "code",
      "source": [
        "training_data = jawdataset(img_dir=dir_training, transform=None)\n",
        "validation_data = jawdataset(img_dir=dir_testing, transform=None)"
      ],
      "metadata": {
        "id": "BuiryQaqCRPe"
      },
      "execution_count": null,
      "outputs": []
    },
    {
      "cell_type": "markdown",
      "source": [
        "checking whether the data has been loaded properly or is it just empty array"
      ],
      "metadata": {
        "id": "NoprbUiZFFN9"
      }
    },
    {
      "cell_type": "code",
      "source": [
        "def check_all_zeros(array):\n",
        "    all_zeros = np.allclose(array, 0)\n",
        "    return all_zeros"
      ],
      "metadata": {
        "id": "dePBgWevk0tg"
      },
      "execution_count": null,
      "outputs": []
    },
    {
      "cell_type": "code",
      "source": [
        "print(check_all_zeros(training_data[1][0]))"
      ],
      "metadata": {
        "colab": {
          "base_uri": "https://localhost:8080/"
        },
        "id": "JocD7YkpCUwe",
        "outputId": "95c4355f-4575-4a46-f019-e80cdee77613"
      },
      "execution_count": null,
      "outputs": [
        {
          "output_type": "stream",
          "name": "stdout",
          "text": [
            "False\n"
          ]
        }
      ]
    },
    {
      "cell_type": "markdown",
      "source": [
        "load the vit model"
      ],
      "metadata": {
        "id": "5yY0ETezFLL0"
      }
    },
    {
      "cell_type": "code",
      "source": [
        "pretrained_vit = ViT('B_16_imagenet1k', pretrained=True)"
      ],
      "metadata": {
        "colab": {
          "base_uri": "https://localhost:8080/"
        },
        "id": "ajRYzpVpCZRW",
        "outputId": "34dfb778-badd-4f32-927d-7f94234dd6f9"
      },
      "execution_count": null,
      "outputs": [
        {
          "output_type": "stream",
          "name": "stderr",
          "text": [
            "Downloading: \"https://github.com/lukemelas/PyTorch-Pretrained-ViT/releases/download/0.0.2/B_16_imagenet1k.pth\" to /root/.cache/torch/hub/checkpoints/B_16_imagenet1k.pth\n",
            "100%|██████████| 331M/331M [00:05<00:00, 65.1MB/s]\n"
          ]
        },
        {
          "output_type": "stream",
          "name": "stdout",
          "text": [
            "Loaded pretrained weights.\n"
          ]
        }
      ]
    },
    {
      "cell_type": "markdown",
      "source": [
        "freeze the layers"
      ],
      "metadata": {
        "id": "W7FWX1XWFPsU"
      }
    },
    {
      "cell_type": "code",
      "source": [
        "for param in pretrained_vit.parameters():\n",
        "    param.requires_grad = False"
      ],
      "metadata": {
        "id": "QoqCNZHHCkqW"
      },
      "execution_count": null,
      "outputs": []
    },
    {
      "cell_type": "markdown",
      "source": [
        "The code defines a neural network model called `NeuralNetwork` by subclassing `nn.Module`. It consists of a series of convolutional layers, ReLU activations, and max pooling operations for feature extraction. The extracted features are then passed through a Vision Transformer (ViT) model and a fully connected layer for classification. The ViT model can be pretrained or initialized separately. The output of the model is a tensor representing the predicted class probabilities. The `forward` method defines the forward pass of the model, where the input tensor `x` is passed through the defined layers sequentially to obtain the final output. The model performs feature extraction, reshaping, and classification in its forward pass."
      ],
      "metadata": {
        "id": "l7NB53sLFaO8"
      }
    },
    {
      "cell_type": "code",
      "source": [
        "class NeuralNetwork(nn.Module):\n",
        "    def __init__(self):\n",
        "        super().__init__()\n",
        "        self.features = nn.Sequential(\n",
        "            nn.Conv3d(in_channels=1, out_channels=32, kernel_size=3, padding=1),\n",
        "            nn.ReLU(),\n",
        "            nn.MaxPool3d(kernel_size=2),\n",
        "            nn.Conv3d(in_channels=32, out_channels=64, kernel_size=3, padding=1),\n",
        "            nn.ReLU(),\n",
        "            nn.MaxPool3d(kernel_size=2),\n",
        "            nn.Conv3d(in_channels=64, out_channels=128, kernel_size=3, padding=1),\n",
        "            nn.ReLU(),\n",
        "            nn.MaxPool3d(kernel_size=2),\n",
        "            nn.Conv3d(in_channels=128, out_channels=256, kernel_size=3, padding=1),\n",
        "            nn.ReLU(),\n",
        "            nn.MaxPool3d(kernel_size=2),\n",
        "            nn.Conv3d(in_channels=256, out_channels=512, kernel_size=3, padding=1),\n",
        "            nn.ReLU(),\n",
        "            nn.MaxPool3d(kernel_size=2),\n",
        "            nn.Flatten(),\n",
        "        )\n",
        "\n",
        "        self.vit = pretrained_vit\n",
        "        self.fc = nn.Sequential(\n",
        "            nn.Flatten(),\n",
        "            nn.Linear(1000,512),\n",
        "            nn.ReLU(),\n",
        "            nn.Dropout(0.5),\n",
        "            nn.Linear(512,2)\n",
        "        )\n",
        "\n",
        "    def forward(self, x):\n",
        "        x = self.features(x)\n",
        "        x = x.repeat(1, 36, 1, 1, 1)\n",
        "        x = x.view(-1, 1, 384, 384)\n",
        "        x = x.repeat(1, 3, 1, 1)\n",
        "        # print(x.shape)\n",
        "        x = self.vit(x)\n",
        "        x = self.fc(x)\n",
        "        return x"
      ],
      "metadata": {
        "id": "Wv2KvmCvCqKm"
      },
      "execution_count": null,
      "outputs": []
    },
    {
      "cell_type": "markdown",
      "source": [
        "Create an instance of the `NeuralNetwork` model and move it to the specified device (e.g., GPU or CPU)."
      ],
      "metadata": {
        "id": "wG-Io-2mFg-5"
      }
    },
    {
      "cell_type": "code",
      "source": [
        "model = NeuralNetwork().to(device)"
      ],
      "metadata": {
        "id": "pZ4h8q3sCuxv"
      },
      "execution_count": null,
      "outputs": []
    },
    {
      "cell_type": "code",
      "source": [
        "training_data[0][0].shape"
      ],
      "metadata": {
        "colab": {
          "base_uri": "https://localhost:8080/"
        },
        "id": "OlW61OAuC0E9",
        "outputId": "a3cde9fc-cfe3-4549-dff5-781b12485ab0"
      },
      "execution_count": null,
      "outputs": [
        {
          "output_type": "execute_result",
          "data": {
            "text/plain": [
              "torch.Size([1, 70, 70, 70])"
            ]
          },
          "metadata": {},
          "execution_count": 17
        }
      ]
    },
    {
      "cell_type": "code",
      "source": [
        "datax = training_data[0][0].reshape(1,1,70,70,70).to(device)"
      ],
      "metadata": {
        "id": "BCWMpwsNC4Zt"
      },
      "execution_count": null,
      "outputs": []
    },
    {
      "cell_type": "code",
      "source": [
        "model(datax)"
      ],
      "metadata": {
        "colab": {
          "base_uri": "https://localhost:8080/"
        },
        "id": "bnVlkwUAC9dF",
        "outputId": "f77875c7-d94d-46dc-e1a8-7bf1ea0910bb"
      },
      "execution_count": null,
      "outputs": [
        {
          "output_type": "execute_result",
          "data": {
            "text/plain": [
              "tensor([[0.0401, 0.0103]], device='cuda:0', grad_fn=<AddmmBackward0>)"
            ]
          },
          "metadata": {},
          "execution_count": 19
        }
      ]
    },
    {
      "cell_type": "code",
      "source": [
        "# Hyperparameters\n",
        "epochs = 50\n",
        "batch_size = 2\n",
        "learning_rate = 1e-5\n",
        "weight_decay = 0.0000000001\n",
        "momentum=0.999999"
      ],
      "metadata": {
        "id": "1AzuAACHDAFN"
      },
      "execution_count": null,
      "outputs": []
    },
    {
      "cell_type": "markdown",
      "source": [
        "setting the loss functions, optimizers and schedulers"
      ],
      "metadata": {
        "id": "dsEYIlhTFlR8"
      }
    },
    {
      "cell_type": "code",
      "source": [
        "loss_function=nn.CrossEntropyLoss()\n",
        "optimizer = torch.optim.Adam( model.parameters()  ,lr=learning_rate)\n",
        "# optimizer=torch.optim.SGD(model.parameters(), lr=learning_rate, momentum=momentum)\n",
        "scheduler = torch.optim.lr_scheduler.StepLR(optimizer, step_size=10, gamma=0.1)"
      ],
      "metadata": {
        "id": "WKARQsQTDFVe"
      },
      "execution_count": null,
      "outputs": []
    },
    {
      "cell_type": "code",
      "source": [
        "training_data_loader = DataLoader(training_data, batch_size, shuffle = True)\n",
        "validation_data_loader = DataLoader(validation_data, batch_size, shuffle = False)"
      ],
      "metadata": {
        "id": "2O9BLEMvDH4G"
      },
      "execution_count": null,
      "outputs": []
    },
    {
      "cell_type": "markdown",
      "source": [
        "This code defines a training function that takes a data loader, model, loss function, and optimizer as inputs. It iterates over batches of data, performs forward pass, computes the prediction error (loss), performs backpropagation to update the model's parameters, and prints the loss during training. The function ensures that the model is in training mode and moves the data and model to the specified device (e.g., GPU). The size variable represents the size of the dataset. The function aims to train the model by minimizing the loss and monitoring the progress through printed loss values."
      ],
      "metadata": {
        "id": "AihCmG8GF2Nz"
      }
    },
    {
      "cell_type": "code",
      "source": [
        "def train(dataloader, model, loss_fn, optimizer):\n",
        "    torch.cuda.empty_cache()\n",
        "    size = len(dataloader.dataset)\n",
        "    model.train()\n",
        "    for batch, (X, y) in enumerate(dataloader):\n",
        "        X, y = X.to(device), y.to(device)\n",
        "        \n",
        "        # Compute prediction error\n",
        "        pred = model(X)\n",
        "        # pred2 = vit_model(X)\n",
        "        # predLog = torch.log(pred)\n",
        "        # loss = loss_fn(torch.log(pred), y.argmax(1))\n",
        "        # print(y.squeeze())\n",
        "        # print(pred)\n",
        "        loss = loss_fn(pred, y.squeeze())\n",
        "\n",
        "        # Backpropagation\n",
        "        optimizer.zero_grad()\n",
        "        loss.backward()\n",
        "        optimizer.step()\n",
        "\n",
        "        if batch%5==0:\n",
        "          # Print\n",
        "          loss, current = loss.item(), batch * len(X)\n",
        "          print(f\"loss: {loss:>7f}  [{current:>5d}/{size:>5d}]\")"
      ],
      "metadata": {
        "id": "m_kTTTFzDKJP"
      },
      "execution_count": null,
      "outputs": []
    },
    {
      "cell_type": "markdown",
      "source": [
        "This code defines a validation function that takes a data loader, model, and loss function as inputs. It evaluates the model's performance on the validation dataset by calculating the average loss and accuracy. The function sets the model to evaluation mode and moves the data to the specified device (e.g., GPU). It iterates over batches of data, performs forward pass to get the model's predictions, calculates the loss and number of correct predictions, and accumulates the total loss and correct predictions. After processing all batches, it computes the average loss and accuracy, appends the accuracy to a list, and prints the validation results. The validation accuracy is stored in the `validation_accuracy` list for tracking the performance over time."
      ],
      "metadata": {
        "id": "fesU2oIsF-nh"
      }
    },
    {
      "cell_type": "code",
      "source": [
        "validation_accuracy = []\n",
        "def validation(dataloader, model, loss_fn):\n",
        "    size = len(dataloader.dataset)\n",
        "    num_batches = len(dataloader)\n",
        "    model.eval()\n",
        "    test_loss, correct = 0, 0\n",
        "    with torch.no_grad():\n",
        "        for X, y in dataloader:\n",
        "            X, y = X.to(device), y.to(device)\n",
        "            pred = model(X)\n",
        "            test_loss += loss_fn(pred, y.squeeze()).item()\n",
        "            correct += (torch.argmax(pred, dim=1) == y.squeeze()).sum().item()\n",
        "            X.cpu()\n",
        "            y.cpu()\n",
        "    test_loss /= num_batches\n",
        "    correct /= size\n",
        "    validation_accuracy.append(correct*100)\n",
        "    # Print\n",
        "    print(f\"Test Error: \\n Accuracy: {(100*correct):>0.1f}%, Avg loss: {test_loss:>8f} \\n\")"
      ],
      "metadata": {
        "id": "AqYlQ_wyDOn3"
      },
      "execution_count": null,
      "outputs": []
    },
    {
      "cell_type": "markdown",
      "source": [
        "lets train the model now!"
      ],
      "metadata": {
        "id": "1vT3_EHOGV2f"
      }
    },
    {
      "cell_type": "code",
      "source": [
        "best_accuracy = 0.0\n",
        "best_model_path = 'best_model.pth'\n",
        "\n",
        "# Training\n",
        "for t in range(epochs):\n",
        "    print(f\"Epoch {t+1}\\n-------------------------------\")\n",
        "    train(training_data_loader, model, loss_function, optimizer)\n",
        "    current_accuracy = validation(validation_data_loader, model, loss_function)\n",
        "    \n",
        "    if current_accuracy is not None and current_accuracy > best_accuracy:\n",
        "        best_accuracy = current_accuracy\n",
        "        torch.save(model.state_dict(), best_model_path)\n",
        "        print(\"Saved best model with validation accuracy:\", best_accuracy)\n",
        "    \n",
        "    # scheduler.step()\n",
        "\n",
        "print(\"Done!\")\n"
      ],
      "metadata": {
        "colab": {
          "base_uri": "https://localhost:8080/"
        },
        "id": "Nq_o58JhDSgG",
        "outputId": "234cdc0f-274f-4df1-a35d-8b5c8f7223bb"
      },
      "execution_count": null,
      "outputs": [
        {
          "output_type": "stream",
          "name": "stdout",
          "text": [
            "Epoch 1\n",
            "-------------------------------\n",
            "loss: 0.695411  [    0/  102]\n",
            "loss: 0.768971  [   10/  102]\n",
            "loss: 0.673766  [   20/  102]\n",
            "loss: 0.650111  [   30/  102]\n",
            "loss: 0.963491  [   40/  102]\n",
            "loss: 0.564221  [   50/  102]\n",
            "loss: 0.442378  [   60/  102]\n",
            "loss: 0.553991  [   70/  102]\n",
            "loss: 0.797395  [   80/  102]\n",
            "loss: 0.585505  [   90/  102]\n",
            "loss: 0.950079  [  100/  102]\n",
            "Test Error: \n",
            " Accuracy: 50.0%, Avg loss: 0.640856 \n",
            "\n",
            "Epoch 2\n",
            "-------------------------------\n",
            "loss: 0.641247  [    0/  102]\n",
            "loss: 0.729236  [   10/  102]\n",
            "loss: 0.512171  [   20/  102]\n",
            "loss: 0.568839  [   30/  102]\n",
            "loss: 0.604311  [   40/  102]\n",
            "loss: 0.763612  [   50/  102]\n",
            "loss: 0.327275  [   60/  102]\n",
            "loss: 0.696403  [   70/  102]\n",
            "loss: 0.329328  [   80/  102]\n",
            "loss: 0.920738  [   90/  102]\n",
            "loss: 0.625802  [  100/  102]\n",
            "Test Error: \n",
            " Accuracy: 88.5%, Avg loss: 0.448170 \n",
            "\n",
            "Epoch 3\n",
            "-------------------------------\n",
            "loss: 0.562561  [    0/  102]\n",
            "loss: 0.685683  [   10/  102]\n",
            "loss: 0.668236  [   20/  102]\n",
            "loss: 0.540350  [   30/  102]\n",
            "loss: 0.735711  [   40/  102]\n",
            "loss: 0.434569  [   50/  102]\n",
            "loss: 0.764467  [   60/  102]\n",
            "loss: 0.763445  [   70/  102]\n",
            "loss: 0.776142  [   80/  102]\n",
            "loss: 0.601727  [   90/  102]\n",
            "loss: 0.433202  [  100/  102]\n",
            "Test Error: \n",
            " Accuracy: 96.2%, Avg loss: 0.420676 \n",
            "\n",
            "Epoch 4\n",
            "-------------------------------\n",
            "loss: 0.668849  [    0/  102]\n",
            "loss: 0.775920  [   10/  102]\n",
            "loss: 0.512495  [   20/  102]\n",
            "loss: 0.773368  [   30/  102]\n",
            "loss: 0.706641  [   40/  102]\n",
            "loss: 0.381617  [   50/  102]\n",
            "loss: 0.467633  [   60/  102]\n",
            "loss: 0.357594  [   70/  102]\n",
            "loss: 0.164094  [   80/  102]\n",
            "loss: 0.693826  [   90/  102]\n",
            "loss: 0.316201  [  100/  102]\n",
            "Test Error: \n",
            " Accuracy: 96.2%, Avg loss: 0.353198 \n",
            "\n",
            "Epoch 5\n",
            "-------------------------------\n",
            "loss: 0.691408  [    0/  102]\n",
            "loss: 0.433105  [   10/  102]\n",
            "loss: 0.894655  [   20/  102]\n",
            "loss: 0.324637  [   30/  102]\n",
            "loss: 0.287703  [   40/  102]\n",
            "loss: 0.153413  [   50/  102]\n",
            "loss: 0.185318  [   60/  102]\n",
            "loss: 0.420160  [   70/  102]\n",
            "loss: 0.332359  [   80/  102]\n",
            "loss: 0.295074  [   90/  102]\n",
            "loss: 0.129785  [  100/  102]\n",
            "Test Error: \n",
            " Accuracy: 96.2%, Avg loss: 0.254200 \n",
            "\n",
            "Epoch 6\n",
            "-------------------------------\n",
            "loss: 0.940355  [    0/  102]\n",
            "loss: 0.230859  [   10/  102]\n",
            "loss: 0.698197  [   20/  102]\n",
            "loss: 0.927286  [   30/  102]\n",
            "loss: 0.814397  [   40/  102]\n",
            "loss: 0.690221  [   50/  102]\n",
            "loss: 0.166126  [   60/  102]\n",
            "loss: 0.575148  [   70/  102]\n",
            "loss: 0.153113  [   80/  102]\n",
            "loss: 0.592141  [   90/  102]\n",
            "loss: 0.281623  [  100/  102]\n",
            "Test Error: \n",
            " Accuracy: 96.2%, Avg loss: 0.219752 \n",
            "\n",
            "Epoch 7\n",
            "-------------------------------\n",
            "loss: 0.567314  [    0/  102]\n",
            "loss: 0.827123  [   10/  102]\n",
            "loss: 0.635769  [   20/  102]\n",
            "loss: 0.990943  [   30/  102]\n",
            "loss: 0.781958  [   40/  102]\n",
            "loss: 0.297787  [   50/  102]\n",
            "loss: 0.953961  [   60/  102]\n",
            "loss: 0.945689  [   70/  102]\n",
            "loss: 0.247104  [   80/  102]\n",
            "loss: 0.864315  [   90/  102]\n",
            "loss: 0.982244  [  100/  102]\n",
            "Test Error: \n",
            " Accuracy: 96.2%, Avg loss: 0.223719 \n",
            "\n",
            "Epoch 8\n",
            "-------------------------------\n",
            "loss: 0.747576  [    0/  102]\n",
            "loss: 0.588673  [   10/  102]\n",
            "loss: 0.400392  [   20/  102]\n",
            "loss: 0.152046  [   30/  102]\n",
            "loss: 0.099489  [   40/  102]\n",
            "loss: 0.206111  [   50/  102]\n",
            "loss: 1.122977  [   60/  102]\n",
            "loss: 0.575254  [   70/  102]\n",
            "loss: 0.918834  [   80/  102]\n",
            "loss: 0.557862  [   90/  102]\n",
            "loss: 0.682132  [  100/  102]\n",
            "Test Error: \n",
            " Accuracy: 96.2%, Avg loss: 0.265801 \n",
            "\n",
            "Epoch 9\n",
            "-------------------------------\n",
            "loss: 0.588782  [    0/  102]\n",
            "loss: 0.829677  [   10/  102]\n",
            "loss: 0.161408  [   20/  102]\n",
            "loss: 0.658144  [   30/  102]\n",
            "loss: 0.244847  [   40/  102]\n",
            "loss: 1.007145  [   50/  102]\n",
            "loss: 0.413617  [   60/  102]\n",
            "loss: 0.196581  [   70/  102]\n",
            "loss: 0.059435  [   80/  102]\n",
            "loss: 0.705232  [   90/  102]\n",
            "loss: 0.137291  [  100/  102]\n",
            "Test Error: \n",
            " Accuracy: 88.5%, Avg loss: 0.248990 \n",
            "\n",
            "Epoch 10\n",
            "-------------------------------\n",
            "loss: 0.170366  [    0/  102]\n",
            "loss: 0.142963  [   10/  102]\n",
            "loss: 0.179345  [   20/  102]\n",
            "loss: 0.138424  [   30/  102]\n",
            "loss: 0.706447  [   40/  102]\n",
            "loss: 0.918453  [   50/  102]\n",
            "loss: 0.762063  [   60/  102]\n",
            "loss: 0.215261  [   70/  102]\n",
            "loss: 0.584247  [   80/  102]\n",
            "loss: 0.081095  [   90/  102]\n",
            "loss: 0.468997  [  100/  102]\n",
            "Test Error: \n",
            " Accuracy: 96.2%, Avg loss: 0.193456 \n",
            "\n",
            "Epoch 11\n",
            "-------------------------------\n",
            "loss: 0.631022  [    0/  102]\n",
            "loss: 0.823686  [   10/  102]\n",
            "loss: 0.416711  [   20/  102]\n",
            "loss: 0.797836  [   30/  102]\n",
            "loss: 0.330866  [   40/  102]\n",
            "loss: 0.847933  [   50/  102]\n",
            "loss: 0.177667  [   60/  102]\n",
            "loss: 0.171456  [   70/  102]\n",
            "loss: 0.713823  [   80/  102]\n",
            "loss: 0.473393  [   90/  102]\n",
            "loss: 0.839335  [  100/  102]\n",
            "Test Error: \n",
            " Accuracy: 96.2%, Avg loss: 0.227613 \n",
            "\n",
            "Epoch 12\n",
            "-------------------------------\n",
            "loss: 0.157214  [    0/  102]\n",
            "loss: 0.814062  [   10/  102]\n",
            "loss: 0.126218  [   20/  102]\n",
            "loss: 0.995336  [   30/  102]\n",
            "loss: 0.693123  [   40/  102]\n",
            "loss: 0.831361  [   50/  102]\n",
            "loss: 0.152722  [   60/  102]\n",
            "loss: 0.127325  [   70/  102]\n",
            "loss: 0.109226  [   80/  102]\n",
            "loss: 0.115682  [   90/  102]\n",
            "loss: 0.210758  [  100/  102]\n",
            "Test Error: \n",
            " Accuracy: 96.2%, Avg loss: 0.183109 \n",
            "\n",
            "Epoch 13\n",
            "-------------------------------\n",
            "loss: 0.641203  [    0/  102]\n",
            "loss: 0.083346  [   10/  102]\n",
            "loss: 0.774042  [   20/  102]\n",
            "loss: 0.078871  [   30/  102]\n",
            "loss: 1.074996  [   40/  102]\n",
            "loss: 0.907539  [   50/  102]\n",
            "loss: 0.563883  [   60/  102]\n",
            "loss: 0.670701  [   70/  102]\n",
            "loss: 0.165530  [   80/  102]\n",
            "loss: 0.577348  [   90/  102]\n",
            "loss: 0.528497  [  100/  102]\n",
            "Test Error: \n",
            " Accuracy: 96.2%, Avg loss: 0.128351 \n",
            "\n",
            "Epoch 14\n",
            "-------------------------------\n",
            "loss: 0.101072  [    0/  102]\n",
            "loss: 0.704852  [   10/  102]\n",
            "loss: 0.915806  [   20/  102]\n",
            "loss: 0.533176  [   30/  102]\n",
            "loss: 0.911028  [   40/  102]\n",
            "loss: 0.806017  [   50/  102]\n",
            "loss: 0.186481  [   60/  102]\n",
            "loss: 0.259040  [   70/  102]\n",
            "loss: 0.087748  [   80/  102]\n",
            "loss: 0.705220  [   90/  102]\n",
            "loss: 0.692318  [  100/  102]\n",
            "Test Error: \n",
            " Accuracy: 88.5%, Avg loss: 0.237592 \n",
            "\n",
            "Epoch 15\n",
            "-------------------------------\n",
            "loss: 0.775931  [    0/  102]\n",
            "loss: 0.604884  [   10/  102]\n",
            "loss: 0.069924  [   20/  102]\n",
            "loss: 0.822198  [   30/  102]\n",
            "loss: 0.124482  [   40/  102]\n",
            "loss: 0.102052  [   50/  102]\n",
            "loss: 0.577340  [   60/  102]\n",
            "loss: 0.754546  [   70/  102]\n",
            "loss: 0.219487  [   80/  102]\n",
            "loss: 0.726162  [   90/  102]\n",
            "loss: 0.543983  [  100/  102]\n",
            "Test Error: \n",
            " Accuracy: 96.2%, Avg loss: 0.121139 \n",
            "\n",
            "Epoch 16\n",
            "-------------------------------\n",
            "loss: 0.797367  [    0/  102]\n",
            "loss: 0.083202  [   10/  102]\n",
            "loss: 0.051216  [   20/  102]\n",
            "loss: 0.688975  [   30/  102]\n",
            "loss: 0.069542  [   40/  102]\n",
            "loss: 1.403591  [   50/  102]\n",
            "loss: 0.994942  [   60/  102]\n",
            "loss: 0.976333  [   70/  102]\n",
            "loss: 0.836771  [   80/  102]\n",
            "loss: 0.132627  [   90/  102]\n",
            "loss: 0.912726  [  100/  102]\n",
            "Test Error: \n",
            " Accuracy: 96.2%, Avg loss: 0.193314 \n",
            "\n",
            "Epoch 17\n",
            "-------------------------------\n",
            "loss: 0.770337  [    0/  102]\n",
            "loss: 1.056218  [   10/  102]\n",
            "loss: 0.861856  [   20/  102]\n",
            "loss: 0.321216  [   30/  102]\n",
            "loss: 0.212984  [   40/  102]\n",
            "loss: 0.955277  [   50/  102]\n",
            "loss: 0.183598  [   60/  102]\n",
            "loss: 0.696424  [   70/  102]\n",
            "loss: 0.114734  [   80/  102]\n",
            "loss: 0.789476  [   90/  102]\n",
            "loss: 0.781186  [  100/  102]\n",
            "Test Error: \n",
            " Accuracy: 96.2%, Avg loss: 0.137732 \n",
            "\n",
            "Epoch 18\n",
            "-------------------------------\n",
            "loss: 0.709627  [    0/  102]\n",
            "loss: 0.236154  [   10/  102]\n",
            "loss: 0.949997  [   20/  102]\n",
            "loss: 0.088861  [   30/  102]\n",
            "loss: 1.047515  [   40/  102]\n",
            "loss: 0.656487  [   50/  102]\n",
            "loss: 0.078358  [   60/  102]\n",
            "loss: 0.186204  [   70/  102]\n",
            "loss: 0.091987  [   80/  102]\n",
            "loss: 0.779229  [   90/  102]\n",
            "loss: 0.776081  [  100/  102]\n",
            "Test Error: \n",
            " Accuracy: 96.2%, Avg loss: 0.132692 \n",
            "\n",
            "Epoch 19\n",
            "-------------------------------\n",
            "loss: 0.035074  [    0/  102]\n",
            "loss: 0.123626  [   10/  102]\n",
            "loss: 0.094807  [   20/  102]\n",
            "loss: 0.082401  [   30/  102]\n",
            "loss: 0.849174  [   40/  102]\n",
            "loss: 0.662286  [   50/  102]\n",
            "loss: 0.115237  [   60/  102]\n",
            "loss: 0.817061  [   70/  102]\n",
            "loss: 1.007783  [   80/  102]\n",
            "loss: 0.873076  [   90/  102]\n",
            "loss: 0.580725  [  100/  102]\n",
            "Test Error: \n",
            " Accuracy: 96.2%, Avg loss: 0.168048 \n",
            "\n",
            "Epoch 20\n",
            "-------------------------------\n",
            "loss: 0.140234  [    0/  102]\n",
            "loss: 0.585045  [   10/  102]\n",
            "loss: 0.647260  [   20/  102]\n",
            "loss: 0.708087  [   30/  102]\n",
            "loss: 0.107072  [   40/  102]\n",
            "loss: 0.190611  [   50/  102]\n",
            "loss: 0.061350  [   60/  102]\n",
            "loss: 0.063612  [   70/  102]\n",
            "loss: 0.052307  [   80/  102]\n",
            "loss: 0.902992  [   90/  102]\n",
            "loss: 0.123914  [  100/  102]\n",
            "Test Error: \n",
            " Accuracy: 96.2%, Avg loss: 0.138235 \n",
            "\n",
            "Epoch 21\n",
            "-------------------------------\n",
            "loss: 0.564013  [    0/  102]\n",
            "loss: 0.114858  [   10/  102]\n",
            "loss: 0.708995  [   20/  102]\n",
            "loss: 0.695440  [   30/  102]\n",
            "loss: 0.038338  [   40/  102]\n",
            "loss: 0.473255  [   50/  102]\n",
            "loss: 0.746471  [   60/  102]\n",
            "loss: 0.062764  [   70/  102]\n",
            "loss: 0.324248  [   80/  102]\n",
            "loss: 0.086378  [   90/  102]\n",
            "loss: 0.023382  [  100/  102]\n",
            "Test Error: \n",
            " Accuracy: 96.2%, Avg loss: 0.116166 \n",
            "\n",
            "Epoch 22\n",
            "-------------------------------\n",
            "loss: 0.949736  [    0/  102]\n",
            "loss: 0.784288  [   10/  102]\n",
            "loss: 0.786739  [   20/  102]\n",
            "loss: 0.099039  [   30/  102]\n",
            "loss: 0.101589  [   40/  102]\n",
            "loss: 0.650807  [   50/  102]\n",
            "loss: 0.102613  [   60/  102]\n",
            "loss: 0.140689  [   70/  102]\n",
            "loss: 0.931360  [   80/  102]\n",
            "loss: 0.064119  [   90/  102]\n",
            "loss: 0.153222  [  100/  102]\n",
            "Test Error: \n",
            " Accuracy: 96.2%, Avg loss: 0.140347 \n",
            "\n",
            "Epoch 23\n",
            "-------------------------------\n",
            "loss: 0.100956  [    0/  102]\n",
            "loss: 1.027340  [   10/  102]\n",
            "loss: 0.099190  [   20/  102]\n",
            "loss: 0.526608  [   30/  102]\n",
            "loss: 0.706060  [   40/  102]\n",
            "loss: 0.960874  [   50/  102]\n",
            "loss: 0.758693  [   60/  102]\n",
            "loss: 0.076460  [   70/  102]\n",
            "loss: 0.948985  [   80/  102]\n",
            "loss: 0.940499  [   90/  102]\n",
            "loss: 0.131966  [  100/  102]\n",
            "Test Error: \n",
            " Accuracy: 96.2%, Avg loss: 0.117562 \n",
            "\n",
            "Epoch 24\n",
            "-------------------------------\n",
            "loss: 0.084844  [    0/  102]\n",
            "loss: 0.589191  [   10/  102]\n",
            "loss: 0.213703  [   20/  102]\n",
            "loss: 0.908223  [   30/  102]\n",
            "loss: 0.139633  [   40/  102]\n",
            "loss: 0.636809  [   50/  102]\n",
            "loss: 0.541222  [   60/  102]\n",
            "loss: 0.163296  [   70/  102]\n",
            "loss: 0.960838  [   80/  102]\n",
            "loss: 0.125684  [   90/  102]\n",
            "loss: 0.531508  [  100/  102]\n",
            "Test Error: \n",
            " Accuracy: 96.2%, Avg loss: 0.115010 \n",
            "\n",
            "Epoch 25\n",
            "-------------------------------\n",
            "loss: 0.639147  [    0/  102]\n",
            "loss: 0.058311  [   10/  102]\n",
            "loss: 0.072717  [   20/  102]\n",
            "loss: 0.089141  [   30/  102]\n",
            "loss: 0.094928  [   40/  102]\n",
            "loss: 0.143126  [   50/  102]\n",
            "loss: 0.082408  [   60/  102]\n",
            "loss: 0.891549  [   70/  102]\n",
            "loss: 0.123962  [   80/  102]\n",
            "loss: 0.592822  [   90/  102]\n",
            "loss: 0.856053  [  100/  102]\n",
            "Test Error: \n",
            " Accuracy: 96.2%, Avg loss: 0.134395 \n",
            "\n",
            "Epoch 26\n",
            "-------------------------------\n",
            "loss: 0.604109  [    0/  102]\n",
            "loss: 0.753544  [   10/  102]\n",
            "loss: 0.039814  [   20/  102]\n",
            "loss: 0.052699  [   30/  102]\n",
            "loss: 0.678110  [   40/  102]\n",
            "loss: 0.067787  [   50/  102]\n",
            "loss: 0.643183  [   60/  102]\n",
            "loss: 0.810750  [   70/  102]\n",
            "loss: 1.000052  [   80/  102]\n",
            "loss: 0.790789  [   90/  102]\n",
            "loss: 0.610725  [  100/  102]\n",
            "Test Error: \n",
            " Accuracy: 96.2%, Avg loss: 0.113287 \n",
            "\n",
            "Epoch 27\n",
            "-------------------------------\n",
            "loss: 0.029705  [    0/  102]\n",
            "loss: 0.018773  [   10/  102]\n",
            "loss: 0.691511  [   20/  102]\n",
            "loss: 0.738885  [   30/  102]\n",
            "loss: 0.901618  [   40/  102]\n",
            "loss: 0.745955  [   50/  102]\n",
            "loss: 0.535863  [   60/  102]\n",
            "loss: 0.024472  [   70/  102]\n",
            "loss: 0.049803  [   80/  102]\n",
            "loss: 0.833787  [   90/  102]\n",
            "loss: 0.142863  [  100/  102]\n",
            "Test Error: \n",
            " Accuracy: 96.2%, Avg loss: 0.173817 \n",
            "\n",
            "Epoch 28\n",
            "-------------------------------\n",
            "loss: 0.666832  [    0/  102]\n",
            "loss: 0.456073  [   10/  102]\n",
            "loss: 0.025987  [   20/  102]\n",
            "loss: 0.912187  [   30/  102]\n",
            "loss: 0.530029  [   40/  102]\n",
            "loss: 0.036352  [   50/  102]\n",
            "loss: 1.038237  [   60/  102]\n",
            "loss: 0.918511  [   70/  102]\n",
            "loss: 0.676269  [   80/  102]\n",
            "loss: 0.838908  [   90/  102]\n",
            "loss: 0.614410  [  100/  102]\n",
            "Test Error: \n",
            " Accuracy: 96.2%, Avg loss: 0.141652 \n",
            "\n",
            "Epoch 29\n",
            "-------------------------------\n",
            "loss: 0.864771  [    0/  102]\n",
            "loss: 0.121608  [   10/  102]\n",
            "loss: 0.022346  [   20/  102]\n",
            "loss: 0.642765  [   30/  102]\n",
            "loss: 0.762620  [   40/  102]\n",
            "loss: 0.056577  [   50/  102]\n",
            "loss: 0.757867  [   60/  102]\n",
            "loss: 0.824607  [   70/  102]\n",
            "loss: 0.839960  [   80/  102]\n",
            "loss: 0.118101  [   90/  102]\n",
            "loss: 1.031259  [  100/  102]\n",
            "Test Error: \n",
            " Accuracy: 96.2%, Avg loss: 0.133167 \n",
            "\n",
            "Epoch 30\n",
            "-------------------------------\n",
            "loss: 0.106672  [    0/  102]\n",
            "loss: 0.315378  [   10/  102]\n",
            "loss: 0.024905  [   20/  102]\n",
            "loss: 0.767800  [   30/  102]\n",
            "loss: 0.131947  [   40/  102]\n",
            "loss: 0.711132  [   50/  102]\n",
            "loss: 0.706344  [   60/  102]\n",
            "loss: 0.015015  [   70/  102]\n",
            "loss: 0.041667  [   80/  102]\n",
            "loss: 0.029231  [   90/  102]\n",
            "loss: 0.690136  [  100/  102]\n",
            "Test Error: \n",
            " Accuracy: 96.2%, Avg loss: 0.156761 \n",
            "\n",
            "Epoch 31\n",
            "-------------------------------\n",
            "loss: 0.080778  [    0/  102]\n",
            "loss: 0.645749  [   10/  102]\n",
            "loss: 1.006692  [   20/  102]\n",
            "loss: 0.055621  [   30/  102]\n",
            "loss: 0.516326  [   40/  102]\n",
            "loss: 0.739393  [   50/  102]\n",
            "loss: 0.850052  [   60/  102]\n",
            "loss: 0.148027  [   70/  102]\n",
            "loss: 0.032659  [   80/  102]\n",
            "loss: 0.032094  [   90/  102]\n",
            "loss: 0.038054  [  100/  102]\n",
            "Test Error: \n",
            " Accuracy: 96.2%, Avg loss: 0.092460 \n",
            "\n",
            "Epoch 32\n",
            "-------------------------------\n",
            "loss: 0.740619  [    0/  102]\n",
            "loss: 0.457639  [   10/  102]\n",
            "loss: 0.725089  [   20/  102]\n",
            "loss: 1.036394  [   30/  102]\n",
            "loss: 0.114012  [   40/  102]\n",
            "loss: 0.017716  [   50/  102]\n",
            "loss: 0.453465  [   60/  102]\n",
            "loss: 0.032228  [   70/  102]\n",
            "loss: 0.659141  [   80/  102]\n",
            "loss: 0.922693  [   90/  102]\n",
            "loss: 0.889889  [  100/  102]\n",
            "Test Error: \n",
            " Accuracy: 96.2%, Avg loss: 0.113153 \n",
            "\n",
            "Epoch 33\n",
            "-------------------------------\n",
            "loss: 0.485622  [    0/  102]\n",
            "loss: 0.701632  [   10/  102]\n",
            "loss: 0.662579  [   20/  102]\n",
            "loss: 1.013096  [   30/  102]\n",
            "loss: 0.586148  [   40/  102]\n",
            "loss: 0.044474  [   50/  102]\n",
            "loss: 0.678072  [   60/  102]\n",
            "loss: 0.055012  [   70/  102]\n",
            "loss: 0.064178  [   80/  102]\n",
            "loss: 0.208234  [   90/  102]\n",
            "loss: 0.792645  [  100/  102]\n",
            "Test Error: \n",
            " Accuracy: 96.2%, Avg loss: 0.122964 \n",
            "\n",
            "Epoch 34\n",
            "-------------------------------\n",
            "loss: 0.048884  [    0/  102]\n",
            "loss: 0.032241  [   10/  102]\n",
            "loss: 0.052649  [   20/  102]\n",
            "loss: 0.607400  [   30/  102]\n",
            "loss: 0.029358  [   40/  102]\n",
            "loss: 1.033195  [   50/  102]\n",
            "loss: 0.737717  [   60/  102]\n",
            "loss: 0.068050  [   70/  102]\n",
            "loss: 0.054368  [   80/  102]\n",
            "loss: 0.595376  [   90/  102]\n",
            "loss: 0.975143  [  100/  102]\n",
            "Test Error: \n",
            " Accuracy: 96.2%, Avg loss: 0.081589 \n",
            "\n",
            "Epoch 35\n",
            "-------------------------------\n",
            "loss: 0.878304  [    0/  102]\n",
            "loss: 1.060841  [   10/  102]\n",
            "loss: 0.021815  [   20/  102]\n",
            "loss: 0.143187  [   30/  102]\n",
            "loss: 0.896910  [   40/  102]\n",
            "loss: 0.732984  [   50/  102]\n",
            "loss: 0.050996  [   60/  102]\n",
            "loss: 0.043406  [   70/  102]\n",
            "loss: 0.022120  [   80/  102]\n",
            "loss: 0.005813  [   90/  102]\n",
            "loss: 0.932598  [  100/  102]\n",
            "Test Error: \n",
            " Accuracy: 96.2%, Avg loss: 0.095030 \n",
            "\n",
            "Epoch 36\n",
            "-------------------------------\n",
            "loss: 0.977262  [    0/  102]\n",
            "loss: 0.003812  [   10/  102]\n",
            "loss: 0.037476  [   20/  102]\n",
            "loss: 0.008927  [   30/  102]\n",
            "loss: 0.016749  [   40/  102]\n",
            "loss: 0.512002  [   50/  102]\n",
            "loss: 1.102297  [   60/  102]\n",
            "loss: 0.057792  [   70/  102]\n",
            "loss: 0.577784  [   80/  102]\n",
            "loss: 0.892508  [   90/  102]\n",
            "loss: 0.033751  [  100/  102]\n",
            "Test Error: \n",
            " Accuracy: 96.2%, Avg loss: 0.131213 \n",
            "\n",
            "Epoch 37\n",
            "-------------------------------\n",
            "loss: 0.058968  [    0/  102]\n",
            "loss: 0.037360  [   10/  102]\n",
            "loss: 0.604067  [   20/  102]\n",
            "loss: 0.043472  [   30/  102]\n",
            "loss: 0.954147  [   40/  102]\n",
            "loss: 0.029181  [   50/  102]\n",
            "loss: 0.047063  [   60/  102]\n",
            "loss: 0.034353  [   70/  102]\n",
            "loss: 0.020775  [   80/  102]\n",
            "loss: 0.957266  [   90/  102]\n",
            "loss: 0.606111  [  100/  102]\n",
            "Test Error: \n",
            " Accuracy: 96.2%, Avg loss: 0.108199 \n",
            "\n",
            "Epoch 38\n",
            "-------------------------------\n",
            "loss: 0.491981  [    0/  102]\n",
            "loss: 0.011527  [   10/  102]\n",
            "loss: 0.019247  [   20/  102]\n",
            "loss: 0.051494  [   30/  102]\n",
            "loss: 0.683873  [   40/  102]\n",
            "loss: 0.567710  [   50/  102]\n",
            "loss: 0.594327  [   60/  102]\n",
            "loss: 0.046295  [   70/  102]\n",
            "loss: 0.629225  [   80/  102]\n",
            "loss: 0.029498  [   90/  102]\n",
            "loss: 0.779566  [  100/  102]\n",
            "Test Error: \n",
            " Accuracy: 96.2%, Avg loss: 0.097800 \n",
            "\n",
            "Epoch 39\n",
            "-------------------------------\n",
            "loss: 0.050750  [    0/  102]\n",
            "loss: 0.599160  [   10/  102]\n",
            "loss: 0.598665  [   20/  102]\n",
            "loss: 0.830290  [   30/  102]\n",
            "loss: 0.049850  [   40/  102]\n",
            "loss: 0.191602  [   50/  102]\n",
            "loss: 0.030818  [   60/  102]\n",
            "loss: 0.052773  [   70/  102]\n",
            "loss: 0.675633  [   80/  102]\n",
            "loss: 0.516138  [   90/  102]\n",
            "loss: 0.721506  [  100/  102]\n",
            "Test Error: \n",
            " Accuracy: 96.2%, Avg loss: 0.090767 \n",
            "\n",
            "Epoch 40\n",
            "-------------------------------\n",
            "loss: 0.547994  [    0/  102]\n",
            "loss: 0.041957  [   10/  102]\n",
            "loss: 0.629025  [   20/  102]\n",
            "loss: 0.789550  [   30/  102]\n",
            "loss: 0.070699  [   40/  102]\n",
            "loss: 0.747800  [   50/  102]\n",
            "loss: 0.540193  [   60/  102]\n",
            "loss: 0.643475  [   70/  102]\n",
            "loss: 0.031006  [   80/  102]\n",
            "loss: 0.947520  [   90/  102]\n",
            "loss: 0.052837  [  100/  102]\n",
            "Test Error: \n",
            " Accuracy: 96.2%, Avg loss: 0.093176 \n",
            "\n",
            "Epoch 41\n",
            "-------------------------------\n",
            "loss: 0.069943  [    0/  102]\n",
            "loss: 0.736554  [   10/  102]\n",
            "loss: 0.046846  [   20/  102]\n",
            "loss: 0.592426  [   30/  102]\n",
            "loss: 0.748084  [   40/  102]\n",
            "loss: 0.036712  [   50/  102]\n",
            "loss: 0.039452  [   60/  102]\n",
            "loss: 0.061113  [   70/  102]\n",
            "loss: 0.780718  [   80/  102]\n",
            "loss: 0.670254  [   90/  102]\n",
            "loss: 0.013596  [  100/  102]\n",
            "Test Error: \n",
            " Accuracy: 96.2%, Avg loss: 0.090581 \n",
            "\n",
            "Epoch 42\n",
            "-------------------------------\n",
            "loss: 0.725585  [    0/  102]\n",
            "loss: 0.697829  [   10/  102]\n",
            "loss: 0.780410  [   20/  102]\n",
            "loss: 0.631016  [   30/  102]\n",
            "loss: 0.686830  [   40/  102]\n",
            "loss: 0.015926  [   50/  102]\n",
            "loss: 0.086189  [   60/  102]\n",
            "loss: 0.036206  [   70/  102]\n",
            "loss: 0.799693  [   80/  102]\n",
            "loss: 0.070637  [   90/  102]\n",
            "loss: 0.791886  [  100/  102]\n",
            "Test Error: \n",
            " Accuracy: 96.2%, Avg loss: 0.094723 \n",
            "\n",
            "Epoch 43\n",
            "-------------------------------\n",
            "loss: 0.041024  [    0/  102]\n",
            "loss: 1.035780  [   10/  102]\n",
            "loss: 0.019535  [   20/  102]\n",
            "loss: 0.632966  [   30/  102]\n",
            "loss: 0.796083  [   40/  102]\n",
            "loss: 0.018949  [   50/  102]\n",
            "loss: 0.066828  [   60/  102]\n",
            "loss: 1.048231  [   70/  102]\n",
            "loss: 0.625921  [   80/  102]\n",
            "loss: 0.016117  [   90/  102]\n",
            "loss: 0.636399  [  100/  102]\n",
            "Test Error: \n",
            " Accuracy: 96.2%, Avg loss: 0.088764 \n",
            "\n",
            "Epoch 44\n",
            "-------------------------------\n",
            "loss: 0.754965  [    0/  102]\n",
            "loss: 0.037609  [   10/  102]\n",
            "loss: 0.023708  [   20/  102]\n",
            "loss: 0.049743  [   30/  102]\n",
            "loss: 0.612932  [   40/  102]\n",
            "loss: 0.620113  [   50/  102]\n",
            "loss: 1.016762  [   60/  102]\n",
            "loss: 0.677174  [   70/  102]\n",
            "loss: 0.637238  [   80/  102]\n",
            "loss: 0.104730  [   90/  102]\n",
            "loss: 1.071904  [  100/  102]\n",
            "Test Error: \n",
            " Accuracy: 96.2%, Avg loss: 0.095000 \n",
            "\n",
            "Epoch 45\n",
            "-------------------------------\n",
            "loss: 0.807265  [    0/  102]\n",
            "loss: 0.046498  [   10/  102]\n",
            "loss: 0.099134  [   20/  102]\n",
            "loss: 0.057625  [   30/  102]\n",
            "loss: 0.014159  [   40/  102]\n",
            "loss: 0.022443  [   50/  102]\n",
            "loss: 0.019030  [   60/  102]\n",
            "loss: 0.873917  [   70/  102]\n",
            "loss: 0.071085  [   80/  102]\n",
            "loss: 0.606460  [   90/  102]\n",
            "loss: 0.689063  [  100/  102]\n",
            "Test Error: \n",
            " Accuracy: 96.2%, Avg loss: 0.077292 \n",
            "\n",
            "Epoch 46\n",
            "-------------------------------\n",
            "loss: 0.834208  [    0/  102]\n",
            "loss: 0.038288  [   10/  102]\n",
            "loss: 0.811746  [   20/  102]\n",
            "loss: 0.642213  [   30/  102]\n",
            "loss: 0.891628  [   40/  102]\n",
            "loss: 0.743884  [   50/  102]\n",
            "loss: 0.635798  [   60/  102]\n",
            "loss: 1.245828  [   70/  102]\n",
            "loss: 0.797517  [   80/  102]\n",
            "loss: 0.062739  [   90/  102]\n",
            "loss: 0.044267  [  100/  102]\n",
            "Test Error: \n",
            " Accuracy: 96.2%, Avg loss: 0.105638 \n",
            "\n",
            "Epoch 47\n",
            "-------------------------------\n",
            "loss: 0.794248  [    0/  102]\n",
            "loss: 0.522778  [   10/  102]\n",
            "loss: 0.956172  [   20/  102]\n",
            "loss: 0.583377  [   30/  102]\n",
            "loss: 0.774987  [   40/  102]\n",
            "loss: 0.809955  [   50/  102]\n",
            "loss: 0.739395  [   60/  102]\n",
            "loss: 0.805939  [   70/  102]\n",
            "loss: 0.033572  [   80/  102]\n",
            "loss: 1.063842  [   90/  102]\n",
            "loss: 0.621242  [  100/  102]\n",
            "Test Error: \n",
            " Accuracy: 96.2%, Avg loss: 0.105694 \n",
            "\n",
            "Epoch 48\n",
            "-------------------------------\n",
            "loss: 0.832960  [    0/  102]\n",
            "loss: 0.098595  [   10/  102]\n",
            "loss: 0.656682  [   20/  102]\n",
            "loss: 0.029795  [   30/  102]\n",
            "loss: 0.537874  [   40/  102]\n",
            "loss: 0.112987  [   50/  102]\n",
            "loss: 0.560883  [   60/  102]\n",
            "loss: 0.841950  [   70/  102]\n",
            "loss: 0.597369  [   80/  102]\n",
            "loss: 0.733963  [   90/  102]\n",
            "loss: 0.533469  [  100/  102]\n",
            "Test Error: \n",
            " Accuracy: 96.2%, Avg loss: 0.101108 \n",
            "\n",
            "Epoch 49\n",
            "-------------------------------\n",
            "loss: 0.831130  [    0/  102]\n",
            "loss: 0.037080  [   10/  102]\n",
            "loss: 1.250114  [   20/  102]\n",
            "loss: 0.523562  [   30/  102]\n",
            "loss: 0.035264  [   40/  102]\n",
            "loss: 0.019479  [   50/  102]\n",
            "loss: 0.713030  [   60/  102]\n",
            "loss: 0.585391  [   70/  102]\n",
            "loss: 0.709674  [   80/  102]\n",
            "loss: 0.036583  [   90/  102]\n",
            "loss: 0.807179  [  100/  102]\n",
            "Test Error: \n",
            " Accuracy: 96.2%, Avg loss: 0.085876 \n",
            "\n",
            "Epoch 50\n",
            "-------------------------------\n",
            "loss: 0.678694  [    0/  102]\n",
            "loss: 0.812533  [   10/  102]\n",
            "loss: 0.043224  [   20/  102]\n",
            "loss: 0.631974  [   30/  102]\n",
            "loss: 0.073923  [   40/  102]\n",
            "loss: 0.027376  [   50/  102]\n",
            "loss: 0.771045  [   60/  102]\n",
            "loss: 0.688308  [   70/  102]\n",
            "loss: 0.865563  [   80/  102]\n",
            "loss: 0.648293  [   90/  102]\n",
            "loss: 0.638539  [  100/  102]\n",
            "Test Error: \n",
            " Accuracy: 96.2%, Avg loss: 0.080635 \n",
            "\n",
            "Done!\n"
          ]
        }
      ]
    },
    {
      "cell_type": "markdown",
      "source": [
        "**the validation accuracy is almost always constant at a rate of 96.2%, the model seems to be quite accurate for the small data it has been tested against**"
      ],
      "metadata": {
        "id": "WLIcwuinGd1r"
      }
    },
    {
      "cell_type": "code",
      "source": [
        "plt.plot(validation_accuracy)\n",
        "\n",
        "plt.xlabel('Epoch')\n",
        "plt.ylabel('Validation Accuracy')\n",
        "\n",
        "plt.show()"
      ],
      "metadata": {
        "colab": {
          "base_uri": "https://localhost:8080/",
          "height": 449
        },
        "id": "gxFz55a-DY7n",
        "outputId": "9fe1ab0d-3b68-4c06-e84e-4ba306298cf3"
      },
      "execution_count": null,
      "outputs": [
        {
          "output_type": "display_data",
          "data": {
            "text/plain": [
              "<Figure size 640x480 with 1 Axes>"
            ],
            "image/png": "[encoded data removed]"
          },
          "metadata": {}
        }
      ]
    },
    {
      "cell_type": "code",
      "source": [
        "model.eval()\n",
        "validation(validation_data_loader, model, loss_function)"
      ],
      "metadata": {
        "colab": {
          "base_uri": "https://localhost:8080/"
        },
        "id": "zdRcpyxdNG36",
        "outputId": "980d3570-7b44-4583-fc14-6b2d2855e566"
      },
      "execution_count": null,
      "outputs": [
        {
          "output_type": "stream",
          "name": "stdout",
          "text": [
            "Test Error: \n",
            " Accuracy: 96.2%, Avg loss: 0.080635 \n",
            "\n"
          ]
        }
      ]
    },
    {
      "cell_type": "markdown",
      "source": [
        "vary high validatio accuracy and very low loss!"
      ],
      "metadata": {
        "id": "z_7e0KUjL_vB"
      }
    },
    {
      "cell_type": "code",
      "source": [
        "# Load the .npy file\n",
        "preprocessed_file = np.load('/content/drive/MyDrive/EDA_jaw_scanner/evaluation/lower_jaw_lab_scanner_npy/11. Lab RMS 05 Lower jaw.npy')\n",
        "reshaped_array = preprocessed_file.reshape(1, 70, 70, 70)\n",
        "\n",
        "with torch.no_grad():\n",
        "    inputs = torch.from_numpy(reshaped_array).float()  # Convert the preprocessed file to a PyTorch tensor with data type float\n",
        "    inputs = inputs.to(device)  # Move the tensor to the appropriate device (e.g., CPU or GPU)\n",
        "    outputs = model(inputs)  # Forward pass to get the predicted outputs\n",
        "    predicted_label = torch.argmax(outputs).item()  # Get the index of the predicted class label\n",
        "\n",
        "print(predicted_label)\n"
      ],
      "metadata": {
        "id": "pa5UOKkFTXDj",
        "colab": {
          "base_uri": "https://localhost:8080/"
        },
        "outputId": "b3a89278-d06b-412b-9348-a046cb6a04cc"
      },
      "execution_count": null,
      "outputs": [
        {
          "output_type": "stream",
          "name": "stdout",
          "text": [
            "0\n"
          ]
        }
      ]
    },
    {
      "cell_type": "markdown",
      "source": [
        "now, in the code below, we have checked the accuracy of the trained model using various scans from different machines and different operators"
      ],
      "metadata": {
        "id": "WE3c3ugOHLVl"
      }
    },
    {
      "cell_type": "code",
      "source": [
        "import os\n",
        "\n",
        "folder_path = '/content/drive/MyDrive/EDA_jaw_scanner/evaluation/upper_jaw_lab_scanner_npy'\n",
        "\n",
        "# Iterate over files in the folder\n",
        "for filename in os.listdir(folder_path):\n",
        "    if filename.endswith('.npy'):\n",
        "        file_path = os.path.join(folder_path, filename)\n",
        "        \n",
        "        # Load the .npy file\n",
        "        preprocessed_file = np.load(file_path)\n",
        "        reshaped_array = preprocessed_file.reshape(1, 70, 70, 70)\n",
        "        \n",
        "        with torch.no_grad():\n",
        "            inputs = torch.from_numpy(reshaped_array).float()  # Convert the preprocessed file to a PyTorch tensor with data type float\n",
        "            inputs = inputs.to(device)  # Move the tensor to the appropriate device (e.g., CPU or GPU)\n",
        "            outputs = model(inputs)  # Forward pass to get the predicted outputs\n",
        "            predicted_label = torch.argmax(outputs).item()  # Get the index of the predicted class label\n",
        "\n",
        "        if predicted_label == 0:\n",
        "            print('lower jaw')\n",
        "        elif predicted_label == 1:\n",
        "            print('upper jaw')\n"
      ],
      "metadata": {
        "colab": {
          "base_uri": "https://localhost:8080/"
        },
        "id": "7GD1ESNfseGh",
        "outputId": "61e6f4e3-8a37-4c99-d60f-251646362e68"
      },
      "execution_count": null,
      "outputs": [
        {
          "output_type": "stream",
          "name": "stdout",
          "text": [
            "upper jaw\n",
            "upper jaw\n",
            "upper jaw\n",
            "upper jaw\n",
            "upper jaw\n"
          ]
        }
      ]
    },
    {
      "cell_type": "code",
      "source": [
        "import os\n",
        "\n",
        "folder_path = '/content/drive/MyDrive/EDA_jaw_scanner/evaluation/lower_jaw_lab_scanner_npy'\n",
        "\n",
        "# Iterate over files in the folder\n",
        "for filename in os.listdir(folder_path):\n",
        "    if filename.endswith('.npy'):\n",
        "        file_path = os.path.join(folder_path, filename)\n",
        "        \n",
        "        # Load the .npy file\n",
        "        preprocessed_file = np.load(file_path)\n",
        "        reshaped_array = preprocessed_file.reshape(1, 70, 70, 70)\n",
        "        \n",
        "        with torch.no_grad():\n",
        "            inputs = torch.from_numpy(reshaped_array).float()  # Convert the preprocessed file to a PyTorch tensor with data type float\n",
        "            inputs = inputs.to(device)  # Move the tensor to the appropriate device (e.g., CPU or GPU)\n",
        "            outputs = model(inputs)  # Forward pass to get the predicted outputs\n",
        "            predicted_label = torch.argmax(outputs).item()  # Get the index of the predicted class label\n",
        "\n",
        "        if predicted_label == 0:\n",
        "            print('lower jaw')\n",
        "        elif predicted_label == 1:\n",
        "            print('upper jaw')"
      ],
      "metadata": {
        "colab": {
          "base_uri": "https://localhost:8080/"
        },
        "id": "KBtEfzpVtrWY",
        "outputId": "18bd7c52-7f7d-46d3-fb9f-d203f4e52ac8"
      },
      "execution_count": null,
      "outputs": [
        {
          "output_type": "stream",
          "name": "stdout",
          "text": [
            "lower jaw\n",
            "lower jaw\n",
            "lower jaw\n",
            "lower jaw\n",
            "lower jaw\n"
          ]
        }
      ]
    },
    {
      "cell_type": "code",
      "source": [
        "lab_scanner = 10"
      ],
      "metadata": {
        "id": "Be7W7A9pHgGA"
      },
      "execution_count": null,
      "outputs": []
    },
    {
      "cell_type": "code",
      "source": [
        "import os\n",
        "\n",
        "folder_path = '/content/drive/MyDrive/EDA_jaw_scanner/evaluation/Trios_operator1_lower_jaw_npy'\n",
        "\n",
        "# Iterate over files in the folder\n",
        "for filename in os.listdir(folder_path):\n",
        "    if filename.endswith('.npy'):\n",
        "        file_path = os.path.join(folder_path, filename)\n",
        "        \n",
        "        # Load the .npy file\n",
        "        preprocessed_file = np.load(file_path)\n",
        "        reshaped_array = preprocessed_file.reshape(1, 70, 70, 70)\n",
        "        \n",
        "        with torch.no_grad():\n",
        "            inputs = torch.from_numpy(reshaped_array).float()  # Convert the preprocessed file to a PyTorch tensor with data type float\n",
        "            inputs = inputs.to(device)  # Move the tensor to the appropriate device (e.g., CPU or GPU)\n",
        "            outputs = model(inputs)  # Forward pass to get the predicted outputs\n",
        "            predicted_label = torch.argmax(outputs).item()  # Get the index of the predicted class label\n",
        "\n",
        "        if predicted_label == 0:\n",
        "            print('lower jaw')\n",
        "        elif predicted_label == 1:\n",
        "            print('upper jaw')"
      ],
      "metadata": {
        "colab": {
          "base_uri": "https://localhost:8080/"
        },
        "id": "yuHr_799v4H8",
        "outputId": "89cf3925-7d63-4f23-d528-b3551deab806"
      },
      "execution_count": null,
      "outputs": [
        {
          "output_type": "stream",
          "name": "stdout",
          "text": [
            "lower jaw\n",
            "lower jaw\n",
            "lower jaw\n",
            "lower jaw\n",
            "lower jaw\n"
          ]
        }
      ]
    },
    {
      "cell_type": "code",
      "source": [
        "import os\n",
        "\n",
        "folder_path = '/content/drive/MyDrive/EDA_jaw_scanner/evaluation/Trios_operator1_upper_jaw_npy'\n",
        "\n",
        "# Iterate over files in the folder\n",
        "for filename in os.listdir(folder_path):\n",
        "    if filename.endswith('.npy'):\n",
        "        file_path = os.path.join(folder_path, filename)\n",
        "        \n",
        "        # Load the .npy file\n",
        "        preprocessed_file = np.load(file_path)\n",
        "        reshaped_array = preprocessed_file.reshape(1, 70, 70, 70)\n",
        "        \n",
        "        with torch.no_grad():\n",
        "            inputs = torch.from_numpy(reshaped_array).float()  # Convert the preprocessed file to a PyTorch tensor with data type float\n",
        "            inputs = inputs.to(device)  # Move the tensor to the appropriate device (e.g., CPU or GPU)\n",
        "            outputs = model(inputs)  # Forward pass to get the predicted outputs\n",
        "            predicted_label = torch.argmax(outputs).item()  # Get the index of the predicted class label\n",
        "\n",
        "        if predicted_label == 0:\n",
        "            print('lower jaw')\n",
        "        elif predicted_label == 1:\n",
        "            print('upper jaw')"
      ],
      "metadata": {
        "colab": {
          "base_uri": "https://localhost:8080/"
        },
        "id": "CJwPbgHByVWx",
        "outputId": "f5c2b728-1558-45c2-db2a-fafbf6166115"
      },
      "execution_count": null,
      "outputs": [
        {
          "output_type": "stream",
          "name": "stdout",
          "text": [
            "upper jaw\n",
            "upper jaw\n",
            "upper jaw\n",
            "upper jaw\n",
            "upper jaw\n"
          ]
        }
      ]
    },
    {
      "cell_type": "code",
      "source": [
        "trios_op1 = 10"
      ],
      "metadata": {
        "id": "c4chRnx-HpIq"
      },
      "execution_count": null,
      "outputs": []
    },
    {
      "cell_type": "code",
      "source": [
        "import os\n",
        "\n",
        "folder_path = '/content/drive/MyDrive/EDA_jaw_scanner/evaluation/Trios_operator2_lower_jaw_npy'\n",
        "\n",
        "# Iterate over files in the folder\n",
        "for filename in os.listdir(folder_path):\n",
        "    if filename.endswith('.npy'):\n",
        "        file_path = os.path.join(folder_path, filename)\n",
        "        \n",
        "        # Load the .npy file\n",
        "        preprocessed_file = np.load(file_path)\n",
        "        reshaped_array = preprocessed_file.reshape(1, 70, 70, 70)\n",
        "        \n",
        "        with torch.no_grad():\n",
        "            inputs = torch.from_numpy(reshaped_array).float()  # Convert the preprocessed file to a PyTorch tensor with data type float\n",
        "            inputs = inputs.to(device)  # Move the tensor to the appropriate device (e.g., CPU or GPU)\n",
        "            outputs = model(inputs)  # Forward pass to get the predicted outputs\n",
        "            predicted_label = torch.argmax(outputs).item()  # Get the index of the predicted class label\n",
        "\n",
        "        if predicted_label == 0:\n",
        "            print('lower jaw')\n",
        "        elif predicted_label == 1:\n",
        "            print('upper jaw')"
      ],
      "metadata": {
        "colab": {
          "base_uri": "https://localhost:8080/"
        },
        "id": "MQw6xtLU0ENZ",
        "outputId": "235615a4-116a-4b4a-a432-b98d82947b9b"
      },
      "execution_count": null,
      "outputs": [
        {
          "output_type": "stream",
          "name": "stdout",
          "text": [
            "upper jaw\n",
            "lower jaw\n",
            "lower jaw\n",
            "lower jaw\n",
            "lower jaw\n"
          ]
        }
      ]
    },
    {
      "cell_type": "code",
      "source": [
        "import os\n",
        "\n",
        "folder_path = '/content/drive/MyDrive/EDA_jaw_scanner/evaluation/Trios_operator2_upper_jaw_npy'\n",
        "\n",
        "# Iterate over files in the folder\n",
        "for filename in os.listdir(folder_path):\n",
        "    if filename.endswith('.npy'):\n",
        "        file_path = os.path.join(folder_path, filename)\n",
        "        \n",
        "        # Load the .npy file\n",
        "        preprocessed_file = np.load(file_path)\n",
        "        reshaped_array = preprocessed_file.reshape(1, 70, 70, 70)\n",
        "        \n",
        "        with torch.no_grad():\n",
        "            inputs = torch.from_numpy(reshaped_array).float()  # Convert the preprocessed file to a PyTorch tensor with data type float\n",
        "            inputs = inputs.to(device)  # Move the tensor to the appropriate device (e.g., CPU or GPU)\n",
        "            outputs = model(inputs)  # Forward pass to get the predicted outputs\n",
        "            predicted_label = torch.argmax(outputs).item()  # Get the index of the predicted class label\n",
        "\n",
        "        if predicted_label == 0:\n",
        "            print('lower jaw')\n",
        "        elif predicted_label == 1:\n",
        "            print('upper jaw')"
      ],
      "metadata": {
        "colab": {
          "base_uri": "https://localhost:8080/"
        },
        "id": "zaQ8lDyO2E6m",
        "outputId": "61097cb3-b15a-4c59-97da-a94b84ad0415"
      },
      "execution_count": null,
      "outputs": [
        {
          "output_type": "stream",
          "name": "stdout",
          "text": [
            "upper jaw\n",
            "upper jaw\n",
            "upper jaw\n",
            "upper jaw\n",
            "upper jaw\n"
          ]
        }
      ]
    },
    {
      "cell_type": "code",
      "source": [
        "trios_op2 = 9"
      ],
      "metadata": {
        "id": "zu-betmZHvng"
      },
      "execution_count": null,
      "outputs": []
    },
    {
      "cell_type": "code",
      "source": [
        "import os\n",
        "\n",
        "folder_path = '/content/drive/MyDrive/EDA_jaw_scanner/evaluation/aor_operator1_lower_jaw_npy'\n",
        "\n",
        "# Iterate over files in the folder\n",
        "for filename in os.listdir(folder_path):\n",
        "    if filename.endswith('.npy'):\n",
        "        file_path = os.path.join(folder_path, filename)\n",
        "        \n",
        "        # Load the .npy file\n",
        "        preprocessed_file = np.load(file_path)\n",
        "        reshaped_array = preprocessed_file.reshape(1, 70, 70, 70)\n",
        "        \n",
        "        with torch.no_grad():\n",
        "            inputs = torch.from_numpy(reshaped_array).float()  # Convert the preprocessed file to a PyTorch tensor with data type float\n",
        "            inputs = inputs.to(device)  # Move the tensor to the appropriate device (e.g., CPU or GPU)\n",
        "            outputs = model(inputs)  # Forward pass to get the predicted outputs\n",
        "            predicted_label = torch.argmax(outputs).item()  # Get the index of the predicted class label\n",
        "\n",
        "        if predicted_label == 0:\n",
        "            print('lower jaw')\n",
        "        elif predicted_label == 1:\n",
        "            print('upper jaw')"
      ],
      "metadata": {
        "colab": {
          "base_uri": "https://localhost:8080/"
        },
        "id": "8qGSRFXr6lPk",
        "outputId": "b0faba58-2a86-4e02-aacb-5ff03756858d"
      },
      "execution_count": null,
      "outputs": [
        {
          "output_type": "stream",
          "name": "stdout",
          "text": [
            "lower jaw\n",
            "lower jaw\n",
            "lower jaw\n",
            "upper jaw\n",
            "upper jaw\n"
          ]
        }
      ]
    },
    {
      "cell_type": "code",
      "source": [
        "import os\n",
        "\n",
        "folder_path = '/content/drive/MyDrive/EDA_jaw_scanner/evaluation/aor_operator1_upper_jaw_npy'\n",
        "\n",
        "# Iterate over files in the folder\n",
        "for filename in os.listdir(folder_path):\n",
        "    if filename.endswith('.npy'):\n",
        "        file_path = os.path.join(folder_path, filename)\n",
        "        \n",
        "        # Load the .npy file\n",
        "        preprocessed_file = np.load(file_path)\n",
        "        reshaped_array = preprocessed_file.reshape(1, 70, 70, 70)\n",
        "        \n",
        "        with torch.no_grad():\n",
        "            inputs = torch.from_numpy(reshaped_array).float()  # Convert the preprocessed file to a PyTorch tensor with data type float\n",
        "            inputs = inputs.to(device)  # Move the tensor to the appropriate device (e.g., CPU or GPU)\n",
        "            outputs = model(inputs)  # Forward pass to get the predicted outputs\n",
        "            predicted_label = torch.argmax(outputs).item()  # Get the index of the predicted class label\n",
        "\n",
        "        if predicted_label == 0:\n",
        "            print('lower jaw')\n",
        "        elif predicted_label == 1:\n",
        "            print('upper jaw')"
      ],
      "metadata": {
        "colab": {
          "base_uri": "https://localhost:8080/"
        },
        "id": "SkbhfLU0-iCN",
        "outputId": "39d29640-3800-49b5-c92b-49d70da97c28"
      },
      "execution_count": null,
      "outputs": [
        {
          "output_type": "stream",
          "name": "stdout",
          "text": [
            "upper jaw\n",
            "upper jaw\n",
            "upper jaw\n",
            "upper jaw\n",
            "upper jaw\n"
          ]
        }
      ]
    },
    {
      "cell_type": "code",
      "source": [
        "aor_op1 = 8"
      ],
      "metadata": {
        "id": "Kw54G7okH2JB"
      },
      "execution_count": null,
      "outputs": []
    },
    {
      "cell_type": "code",
      "source": [
        "folder_path = '/content/drive/MyDrive/EDA_jaw_scanner/evaluation/aor_operator2_upper_jaw_npy'\n",
        "\n",
        "# Iterate over files in the folder\n",
        "for filename in os.listdir(folder_path):\n",
        "    if filename.endswith('.npy'):\n",
        "        file_path = os.path.join(folder_path, filename)\n",
        "        \n",
        "        # Load the .npy file\n",
        "        preprocessed_file = np.load(file_path)\n",
        "        reshaped_array = preprocessed_file.reshape(1, 70, 70, 70)\n",
        "        \n",
        "        with torch.no_grad():\n",
        "            inputs = torch.from_numpy(reshaped_array).float()  # Convert the preprocessed file to a PyTorch tensor with data type float\n",
        "            inputs = inputs.to(device)  # Move the tensor to the appropriate device (e.g., CPU or GPU)\n",
        "            outputs = model(inputs)  # Forward pass to get the predicted outputs\n",
        "            predicted_label = torch.argmax(outputs).item()  # Get the index of the predicted class label\n",
        "\n",
        "        if predicted_label == 0:\n",
        "            print('lower jaw')\n",
        "        elif predicted_label == 1:\n",
        "            print('upper jaw')"
      ],
      "metadata": {
        "colab": {
          "base_uri": "https://localhost:8080/"
        },
        "id": "BpZs9ipnA-ct",
        "outputId": "7a1ee2a4-f526-480d-9395-6127e49373ac"
      },
      "execution_count": null,
      "outputs": [
        {
          "output_type": "stream",
          "name": "stdout",
          "text": [
            "upper jaw\n",
            "upper jaw\n",
            "upper jaw\n",
            "upper jaw\n",
            "upper jaw\n"
          ]
        }
      ]
    },
    {
      "cell_type": "code",
      "source": [
        "import os\n",
        "\n",
        "folder_path = '/content/drive/MyDrive/EDA_jaw_scanner/evaluation/aor_operator2_lower_jaw_npy'\n",
        "\n",
        "# Iterate over files in the folder\n",
        "for filename in os.listdir(folder_path):\n",
        "    if filename.endswith('.npy'):\n",
        "        file_path = os.path.join(folder_path, filename)\n",
        "        \n",
        "        # Load the .npy file\n",
        "        preprocessed_file = np.load(file_path)\n",
        "        reshaped_array = preprocessed_file.reshape(1, 70, 70, 70)\n",
        "        \n",
        "        with torch.no_grad():\n",
        "            inputs = torch.from_numpy(reshaped_array).float()  # Convert the preprocessed file to a PyTorch tensor with data type float\n",
        "            inputs = inputs.to(device)  # Move the tensor to the appropriate device (e.g., CPU or GPU)\n",
        "            outputs = model(inputs)  # Forward pass to get the predicted outputs\n",
        "            predicted_label = torch.argmax(outputs).item()  # Get the index of the predicted class label\n",
        "\n",
        "        if predicted_label == 0:\n",
        "            print('lower jaw')\n",
        "        elif predicted_label == 1:\n",
        "            print('upper jaw')\n"
      ],
      "metadata": {
        "colab": {
          "base_uri": "https://localhost:8080/"
        },
        "id": "-I1RtLpEDij3",
        "outputId": "74cb6952-1473-4f3e-f151-e8e9d97eb80b"
      },
      "execution_count": null,
      "outputs": [
        {
          "output_type": "stream",
          "name": "stdout",
          "text": [
            "lower jaw\n",
            "lower jaw\n",
            "lower jaw\n",
            "upper jaw\n",
            "lower jaw\n"
          ]
        }
      ]
    },
    {
      "cell_type": "code",
      "source": [
        "aor_op2 = 9"
      ],
      "metadata": {
        "id": "TvwyoWd2G2eH"
      },
      "execution_count": null,
      "outputs": []
    },
    {
      "cell_type": "code",
      "source": [
        "import matplotlib.pyplot as plt\n",
        "\n",
        "scanners = ['Lab Scanner', 'Trios (Op 1)', 'Trios (Op 2)', 'Aoral (Op 1)', 'Aoral (Op 2)']\n",
        "predictions = [lab_scanner, trios_op1, trios_op2, aor_op1, aor_op2]\n",
        "\n",
        "plt.bar(scanners, predictions)\n",
        "plt.xlabel('Scanner and Operator')\n",
        "plt.ylabel('Correct Predictions')\n",
        "plt.title('Correct Predictions by Scanner and Operator (out of 10)')\n",
        "plt.show()\n"
      ],
      "metadata": {
        "colab": {
          "base_uri": "https://localhost:8080/",
          "height": 472
        },
        "id": "ah0-0f-LIAV_",
        "outputId": "3e762a68-9bd0-4a64-bf2d-3329fa046604"
      },
      "execution_count": null,
      "outputs": [
        {
          "output_type": "display_data",
          "data": {
            "text/plain": [
              "<Figure size 640x480 with 1 Axes>"
            ],
            "image/png": "[encoded data removed]"
          },
          "metadata": {}
        }
      ]
    },
    {
      "cell_type": "code",
      "source": [
        "import matplotlib.pyplot as plt\n",
        "\n",
        "scanners = ['Trios', 'Aoral']\n",
        "predictions = [trios_op1 + trios_op2, aor_op1 + aor_op2]\n",
        "\n",
        "plt.bar(scanners, predictions)\n",
        "plt.xlabel('Scanner')\n",
        "plt.ylabel('Total Correct Predictions')\n",
        "plt.title('Comparison of Correct Predictions between Trios and Aoral Scanners (out of 20)')\n",
        "plt.show()\n"
      ],
      "metadata": {
        "colab": {
          "base_uri": "https://localhost:8080/",
          "height": 472
        },
        "id": "-gYRGVcaJBBQ",
        "outputId": "4e619e0b-bb18-456f-8bcb-1c735b73d04e"
      },
      "execution_count": null,
      "outputs": [
        {
          "output_type": "display_data",
          "data": {
            "text/plain": [
              "<Figure size 640x480 with 1 Axes>"
            ],
            "image/png": "[encoded data removed]"
          },
          "metadata": {}
        }
      ]
    },
    {
      "cell_type": "code",
      "source": [
        "import matplotlib.pyplot as plt\n",
        "\n",
        "operators = ['Operator 1', 'Operator 2']\n",
        "predictions = [trios_op1 + aor_op1, trios_op2 + aor_op2]\n",
        "\n",
        "plt.bar(operators, predictions)\n",
        "plt.xlabel('Operator')\n",
        "plt.ylabel('Total Correct Predictions')\n",
        "plt.title('Comparison of Correct Predictions between Operator 1 and Operator 2 (out of 20)')\n",
        "plt.show()\n"
      ],
      "metadata": {
        "colab": {
          "base_uri": "https://localhost:8080/",
          "height": 472
        },
        "id": "jhseT-3BJUdC",
        "outputId": "932ea5ad-a825-4b04-fee4-f659047e91ee"
      },
      "execution_count": null,
      "outputs": [
        {
          "output_type": "display_data",
          "data": {
            "text/plain": [
              "<Figure size 640x480 with 1 Axes>"
            ],
            "image/png": "[encoded data removed]"
          },
          "metadata": {}
        }
      ]
    },
    {
      "cell_type": "code",
      "source": [],
      "metadata": {
        "id": "nimBOga9JglQ"
      },
      "execution_count": null,
      "outputs": []
    }
  ]
}